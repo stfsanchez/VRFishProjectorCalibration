{
 "cells": [
  {
   "cell_type": "code",
   "execution_count": null,
   "id": "a1418d80",
   "metadata": {},
   "outputs": [],
   "source": [
    "import numpy as np\n",
    "import matplotlib.pyplot as plt\n",
    "import imp\n",
    "from camera import camera3d as cam\n",
    "import calibrator as cal\n",
    "import cv2\n",
    "import imp\n",
    "import time\n",
    "import numpy as np\n",
    "import os\n",
    "import subprocess\n",
    "import skg\n",
    "from skspatial.objects import Plane\n",
    "from skspatial.objects import Points\n",
    "import imageio\n",
    "\n",
    "pathFile = \"./images\""
   ]
  },
  {
   "cell_type": "markdown",
   "id": "8119e1d8",
   "metadata": {},
   "source": [
    "# 1 - Define simple function to create and navigate folders"
   ]
  },
  {
   "cell_type": "code",
   "execution_count": null,
   "id": "c6faeda4",
   "metadata": {},
   "outputs": [],
   "source": [
    "def createPath(path,params = []):\n",
    "    if not os.path.exists(path):\n",
    "        os.makedirs(path)\n",
    "    for param in params:\n",
    "        path = path + '/' + str(param)\n",
    "        if not os.path.exists(path):\n",
    "            os.makedirs(path)\n",
    "    return path\n",
    "    \n",
    "    \n",
    "def checkPath(path,params = []):\n",
    "    for param in params:\n",
    "        path = path + '/' + str(param)\n",
    "    return path"
   ]
  },
  {
   "cell_type": "markdown",
   "id": "5a571bb8",
   "metadata": {},
   "source": [
    "# 2 - Get Bowl\n",
    "\n",
    "no IR Filters\n",
    "\n",
    "no IR Lights\n",
    "\n",
    "no Projection"
   ]
  },
  {
   "cell_type": "code",
   "execution_count": null,
   "id": "a52dba49",
   "metadata": {},
   "outputs": [],
   "source": [
    "nxBowl = 5\n",
    "\n",
    "frames = []\n",
    "position = []\n",
    "camera = cam.Camera(rgbMode=0,depthMode = 0,infraredMode = 0,infrared = True,filtre = False)\n",
    "camera.alignTo(True)\n",
    "camera.setExposureIR(20000)\n",
    "camera.setGainIR(16)"
   ]
  },
  {
   "cell_type": "code",
   "execution_count": null,
   "id": "488f9f39",
   "metadata": {},
   "outputs": [],
   "source": [
    "w = np.arange(0,1280,1)\n",
    "h = np.arange(0,720,1)\n",
    "tmp = camera.getFramesAligned()\n",
    "path = createPath(pathFile,[\"bowl3D\",\"IR\"])\n",
    "\n",
    "xBowl = []\n",
    "for k in range(0,5):\n",
    "    tmp = camera.getFramesAligned()\n",
    "    X = np.zeros((720,1280,3))\n",
    "    for x in w:\n",
    "        for y in h:\n",
    "            point = camera.getWorldPosition(x,y)\n",
    "            \n",
    "            X[y,x,:] += point\n",
    "    xBowl.append(X)"
   ]
  },
  {
   "cell_type": "code",
   "execution_count": null,
   "id": "5e676202",
   "metadata": {},
   "outputs": [],
   "source": [
    "camera.stop()"
   ]
  },
  {
   "cell_type": "markdown",
   "id": "f31404e3",
   "metadata": {},
   "source": [
    "# 3 - Turn on the projection"
   ]
  },
  {
   "cell_type": "code",
   "execution_count": null,
   "id": "a62bdd10",
   "metadata": {},
   "outputs": [],
   "source": [
    "frames = []\n",
    "position = []\n",
    "controller = cal.Controller()\n",
    "camera = cam.Camera(infraredMode=0,infrared = True,rgb = False,depth=True,filtre = False)\n",
    "camera.alignTo(True)\n",
    "camera.laserSwitch()\n",
    "exposure = 10000\n",
    "camera.setExposureIR(exposure)"
   ]
  },
  {
   "cell_type": "markdown",
   "id": "4c7eed9f",
   "metadata": {},
   "source": [
    "# 4 - Get mask"
   ]
  },
  {
   "cell_type": "code",
   "execution_count": null,
   "id": "679965b0",
   "metadata": {},
   "outputs": [],
   "source": [
    "def createMask(frame,rate):\n",
    "    ret,thres = cv2.threshold(frame,100,255,cv2.THRESH_BINARY)\n",
    "    contours,hierarchy = cv2.findContours(thres ,cv2.RETR_LIST ,cv2.CHAIN_APPROX_SIMPLE)\n",
    "    maskCircle = [0,0,0]\n",
    "    for contour in contours:\n",
    "        (x,y),radius = cv2.minEnclosingCircle(contour)\n",
    "        center = (int(x),int(y))\n",
    "        radius = int(radius * rate)\n",
    "        #cv2.circle(frame,center,radius,(255,0,0),2)\n",
    "        if maskCircle[0]<radius:\n",
    "            maskCircle[0] = int(radius * rate)\n",
    "            maskCircle[1:] = center\n",
    "    mask = frame * 0\n",
    "    cv2.circle(mask,maskCircle[1:],maskCircle[0], 1,-1, 8,0)\n",
    "\n",
    "    return mask\n"
   ]
  },
  {
   "cell_type": "code",
   "execution_count": null,
   "id": "afa64566",
   "metadata": {},
   "outputs": [],
   "source": [
    "controller.calibrationColor(1,0,1,True)\n",
    "controller.calibrationPosition(10,10)\n",
    "controller.calibrationScale3(1,1,1)\n",
    "for k in range(0,10):\n",
    "    X = camera.getFramesAligned()\n",
    "\n",
    "X = camera.getFramesAligned()\n",
    "\n",
    "maskIR = createMask(X[1],1)\n",
    "maskIR9 = createMask(X[1],.9)"
   ]
  },
  {
   "cell_type": "markdown",
   "id": "67cb82e7",
   "metadata": {},
   "source": [
    "# 5 - Get background"
   ]
  },
  {
   "cell_type": "code",
   "execution_count": null,
   "id": "d44ed7cc",
   "metadata": {},
   "outputs": [],
   "source": [
    "def backGroundSubstractor(frames):\n",
    "    fgbg = cv2.createBackgroundSubtractorMOG2() \n",
    "    for frame in frames:\n",
    "        fgmask = fgbg.apply(frame,learningRate=0.01)\n",
    "    return fgbg\n",
    "\n",
    "def backgroundSubstract(frame,fgbg):\n",
    "    fgmask = fgbg.apply(frame,learningRate=0)\n",
    "    return fgmask"
   ]
  },
  {
   "cell_type": "code",
   "execution_count": null,
   "id": "2d3f1329",
   "metadata": {},
   "outputs": [],
   "source": [
    "path = createPath(pathFile,[\"lines\",\"10000\",\"bg\"])\n",
    "controller.calibrationColor(1,0,0,True)\n",
    "for k in range(0,10):\n",
    "    X = camera.getFramesAligned()\n",
    "irImages = []\n",
    "for k in range(0,20):\n",
    "    X = camera.getFramesAligned()\n",
    "    irImages.append(X[1])\n",
    "fgbg = backGroundSubstractor(irImages)\n"
   ]
  },
  {
   "cell_type": "code",
   "execution_count": null,
   "id": "13950fd4",
   "metadata": {},
   "outputs": [],
   "source": [
    "camera.stop()\n",
    "controller.stopDisplay()\n",
    "controller.disconnect()"
   ]
  },
  {
   "cell_type": "markdown",
   "id": "c80666f7",
   "metadata": {},
   "source": [
    "# 6 - Fit bowl"
   ]
  },
  {
   "cell_type": "code",
   "execution_count": null,
   "id": "92eee9c4",
   "metadata": {},
   "outputs": [],
   "source": [
    "def flattener(arr):\n",
    "    return arr.reshape(-1,arr.shape[-1])\n",
    "\n",
    "def stackAll(x,nx = 5):\n",
    "    xA = flattener(x[0])\n",
    "    for k in range(1,nx):\n",
    "        xA = np.vstack((xA,flattener(x[k])))\n",
    "    xA = xA[~np.isnan(xA).any(axis=1), :]\n",
    "    xA = xA[~(xA == 0).any(axis=1), :]\n",
    "    return xA"
   ]
  },
  {
   "cell_type": "code",
   "execution_count": null,
   "id": "28c1fe1d",
   "metadata": {},
   "outputs": [],
   "source": [
    "def halfSphereSample(nx = 1000):\n",
    "    theta = np.linspace(0,np.pi/2.0,nx)\n",
    "\n",
    "    points = np.zeros((0,3))\n",
    "    for k in range(0,nx):\n",
    "        nPhi = int(1 + nx*np.cos(theta[k]))\n",
    "\n",
    "        dPhi = 2*np.pi/nPhi\n",
    "        phi = np.linspace(-np.pi,np.pi-dPhi,nPhi)\n",
    "        \n",
    "        X = np.zeros((nPhi,3))\n",
    "        \n",
    "        X[:,0] = np.cos(theta[k])*np.cos(phi)\n",
    "        X[:,1] = np.cos(theta[k])*np.sin(phi)\n",
    "        X[:,2] = np.sin(theta[k])\n",
    "\n",
    "        points = np.vstack((points,X))\n",
    "    return points"
   ]
  },
  {
   "cell_type": "code",
   "execution_count": null,
   "id": "b4ec848d",
   "metadata": {},
   "outputs": [],
   "source": [
    "imp.reload(cam)\n",
    "maskIR3D = np.moveaxis(np.tile(maskIR,(3,1,1)),0,2)\n",
    "for k in range(0,5):\n",
    "    xBowl[k] *= maskIR3D\n",
    "xAll = stackAll(xBowl,5)\n",
    "sphere = skg.nsphere_fit(xAll)\n",
    "sphereBowl = sphere[0]*halfSphereSample(nx = 2000)+sphere[1]\n",
    "\n",
    "camera = cam.Camera(rgbMode=0,depthMode = 0,infraredMode = 0,infrared = True,filtre = False)\n",
    "camera.laserSwitch()\n",
    "camera.alignTo(True)\n",
    "\n",
    "bowlFitted = camera.simulateDepth(sphereBowl)\n",
    "bowlFittedNormalized = ((bowlFitted - sphere[1])/sphere[0])\n",
    "bowlFittedNormalized2 = np.zeros((720,1280,2))\n",
    "bowlFittedNormalized2[:,:,0] = np.arctan2(bowlFittedNormalized[:,:,1],bowlFittedNormalized[:,:,0])\n",
    "r = np.sqrt(bowlFittedNormalized[:,:,1]**2+bowlFittedNormalized[:,:,0]**2)\n",
    "bowlFittedNormalized2[:,:,1] = np.arcsin(bowlFittedNormalized[:,:,2])\n",
    "\n",
    "camera.stop()"
   ]
  },
  {
   "cell_type": "markdown",
   "id": "b42514ab",
   "metadata": {},
   "source": [
    "# 6a - Write Down Sphere properties "
   ]
  },
  {
   "cell_type": "code",
   "execution_count": null,
   "id": "e3999a9a",
   "metadata": {},
   "outputs": [],
   "source": [
    "print(sphere)"
   ]
  },
  {
   "cell_type": "markdown",
   "id": "38d98bb9",
   "metadata": {},
   "source": [
    "# 7 - Get scanlines"
   ]
  },
  {
   "cell_type": "code",
   "execution_count": null,
   "id": "7b257f7f",
   "metadata": {},
   "outputs": [],
   "source": [
    "frames = []\n",
    "position = []\n",
    "controller = startController()\n",
    "camera = cam.Camera(infraredMode=0,infrared = True,rgb = False,depth=True,filtre = False)\n",
    "camera.alignTo(True)\n",
    "camera.laserSwitch()\n",
    "exposure = 10000\n",
    "camera.setExposureIR(exposure)"
   ]
  },
  {
   "cell_type": "code",
   "execution_count": null,
   "id": "2cb05ce6",
   "metadata": {
    "scrolled": true
   },
   "outputs": [],
   "source": [
    "controller.calibrationMesh(1)\n",
    "controller.calibrationPosition(.5,0)\n",
    "controller.calibrationScale3(0.1,10,.1)\n",
    "controller.calibrationColor(1,0,1,False)\n",
    "controller.calibrationScale3(2/1920,10,2/1920)\n",
    "controller.calibrationPosition(k,0)"
   ]
  },
  {
   "cell_type": "code",
   "execution_count": null,
   "id": "7197276c",
   "metadata": {},
   "outputs": [],
   "source": [
    "widths = []\n",
    "heights = []\n",
    "\n",
    "x = np.linspace(-1,1,192)\n",
    "controller.calibrationScale3(2/1920,10,2/1920)\n",
    "wIdx = []\n",
    "hIdx = []\n",
    "for k in x:  \n",
    "    for j in range(0,10):\n",
    "        X = camera.getFramesAligned()\n",
    "    widths.append(X[1])\n",
    "    wIdx.append(controller.calibrationPosition(k,0))\n",
    "\n",
    "x = np.linspace(-1,1,108)\n",
    "\n",
    "controller.calibrationScale3(10,2/1080,2/1080)\n",
    "positionHeight = []\n",
    "for k in x:\n",
    "    for j in range(0,10):\n",
    "        X = camera.getFramesAligned()\n",
    "    heights.append(X[1])\n",
    "    hIdx.append(controller.calibrationPosition(0,k))\n",
    "camera.stop()\n",
    "controller.stopDisplay()\n",
    "controller.disconnect()"
   ]
  },
  {
   "cell_type": "markdown",
   "id": "792dbf47",
   "metadata": {},
   "source": [
    "# 8 - Get Projected Grid"
   ]
  },
  {
   "cell_type": "code",
   "execution_count": null,
   "id": "b79663d1",
   "metadata": {},
   "outputs": [],
   "source": [
    "def createBlobDetector(minArea = 200):\n",
    "    params = cv2.SimpleBlobDetector_Params()\n",
    "\n",
    "    params.filterByColor = False\n",
    "    params.filterByArea = True\n",
    "    params.minArea = minArea\n",
    "    params.minThreshold = 10\n",
    "    params.maxThreshold = 220\n",
    "    params.filterByCircularity = False\n",
    "    params.minCircularity = 0.1\n",
    "    params.filterByConvexity = False\n",
    "    params.minConvexity = 0.87\n",
    "    params.filterByInertia = False\n",
    "    params.minInertiaRatio = 0.01\n",
    "    detector = cv2.SimpleBlobDetector_create(params)\n",
    "    return detector"
   ]
  },
  {
   "cell_type": "code",
   "execution_count": null,
   "id": "950a7f5f",
   "metadata": {},
   "outputs": [],
   "source": [
    "detector = createBlobDetector(0)\n",
    "coordX2 = np.zeros((len(hIdx),len(wIdx),3))*np.nan\n",
    "coordPixel = np.zeros((len(hIdx),len(wIdx),2))*np.nan\n",
    "for k in range(0,len(widths)):\n",
    "    for j in range(0,len(heights)):\n",
    "        try:\n",
    "            point = detector.detect(100*widths[k]*heights[j])[0].pt\n",
    "            coordX2[j,k,:] = bowlFittedNormalized[int(point[1]),int(point[0]),:]\n",
    "            coordPixel[j,k,:] = [wIdx[k]-540.5,hIdx[j]-960.5]\n",
    "        except Exception as e:\n",
    "            pass\n"
   ]
  },
  {
   "cell_type": "markdown",
   "id": "7aca33d0",
   "metadata": {},
   "source": [
    "# 9 - Mapping Fit"
   ]
  },
  {
   "cell_type": "code",
   "execution_count": null,
   "id": "04cf6ef8",
   "metadata": {},
   "outputs": [],
   "source": [
    "def rotationMatrix(x1,x2):\n",
    "    a = np.cross(x1,x2)\n",
    "    na = np.linalg.norm(a)\n",
    "    a /= na\n",
    "    u = np.linalg.norm(x1)\n",
    "    v = np.linalg.norm(x2)\n",
    "    d = np.dot(x1,x2)\n",
    "    cosP = d / (u*v)\n",
    "    sinP = na /(u*v)\n",
    "    rot = [[cosP+(1-cosP)*a[0]**2,(1-cosP)*a[0]*a[1]-sinP*a[2],(1-cosP)*a[0]*a[2]+sinP*a[1]],\n",
    "    [(1-cosP)*a[0]*a[1]+sinP*a[2],cosP+(1-cosP)*a[1]**2,(1-cosP)*a[1]*a[2]-sinP*a[0]],\n",
    "    [(1-cosP)*a[0]*a[2]-sinP*a[1],(1-cosP)*a[1]*a[2]+cosP*a[0],cosP+(1-cosP)*a[2]**2]]\n",
    "    return np.array(rot)"
   ]
  },
  {
   "cell_type": "code",
   "execution_count": null,
   "id": "9e61e8f6",
   "metadata": {},
   "outputs": [],
   "source": [
    "def computeMapping(coordX2,mapCenter,mapStep = 30,projectorPosition = (0,0,3),phi0 = -0.001,theta0 = +0.01):\n",
    "\n",
    "    rx = coordX2[mapCenter[0],mapCenter[1]-3:mapCenter[1]+3,:]\n",
    "    rx = rx[~np.isnan(rx[:,0]),:]\n",
    "    rotX = - np.arctan2(stats.linregress(rx[:,0],rx[:,1])[0],1)\n",
    "\n",
    "    dx = np.linalg.norm((coordX2[mapCenter[0],mapCenter[1],:]-coordX2[mapCenter[0]-1,mapCenter[1],:])/2)\n",
    "    dy = np.linalg.norm((coordX2[mapCenter[0],mapCenter[1],:]-coordX2[mapCenter[0],mapCenter[1]-1,:])/2)\n",
    "    diff = 2*np.mean((dx,dy))/(mapStep)\n",
    "    dPhi = np.arctan2(diff,np.linalg.norm(projectorPosition-coordX2[mapCenter[0],mapCenter[1],:]))\n",
    "\n",
    "    return rotX,dx,dy,diff,dPhi,phi0,theta0,projectorPosition"
   ]
  },
  {
   "cell_type": "code",
   "execution_count": null,
   "id": "f1e966f1",
   "metadata": {},
   "outputs": [],
   "source": [
    "res = [1920,1080]\n",
    "scale = 1\n",
    "rotX,dx,dy,diff,dPhi,phi0,theta0,projectorPosition = computeMapping(coordX2,mapCenter)\n",
    "\n",
    "h = theta0+(np.linspace(0,res[0],res[0]*scale)-959.5-mapCenterFull[1])*dPhi\n",
    "w = phi0+(np.linspace(0,res[1],res[1]*scale)-539.5-mapCenterFull[0])*dPhi\n",
    "phi =  np.tile(h,(res[1]*scale,1))\n",
    "theta =  np.tile(w,(res[0]*scale,1)).T\n",
    "\n",
    "w = np.zeros((res[1]*scale,res[0]*scale,3))*np.nan\n",
    "\n",
    "w[:,:,0] = -np.sin(phi)*np.cos(theta)\n",
    "w[:,:,1] = np.sin(theta)\n",
    "w[:,:,2] = np.cos(phi)*np.cos(theta)\n",
    "\n",
    "dotProduct = np.sum(w * projectorPosition,axis = 2)\n",
    "\n",
    "d = dotProduct - np.sqrt(dotProduct**2-(np.linalg.norm(projectorPosition)**2-1))\n",
    "d = np.moveaxis(np.tile(d,(3,1,1)),0,2)\n",
    "\n",
    "xS =  projectorPosition - d *w\n",
    "xSrotated = np.copy(xS)\n",
    "xSrotated[:,:,0] = np.cos(rotX) *  xS[:,:,0] + np.sin(rotX) *  xS[:,:,1]\n",
    "xSrotated[:,:,1] = - np.sin(rotX) *  xS[:,:,0] + np.cos(rotX) *  xS[:,:,1] \n",
    "xS = xSrotated\n",
    "\n",
    "rot = rotationMatrix(xS[int(539.5+mapCenterFull[0]*scale),int(959.5+mapCenterFull[1]*scale),:],\n",
    "                        coordX2[mapCenter[0],mapCenter[1],:])\n",
    "xSrotated = applyRotationMatrix(rot,xS)\n",
    "\n",
    "normalTexture =  xSrotated"
   ]
  },
  {
   "cell_type": "markdown",
   "id": "a0b42e71",
   "metadata": {},
   "source": [
    "# 10 - Write Texture"
   ]
  },
  {
   "cell_type": "code",
   "execution_count": null,
   "id": "4dc0dac7",
   "metadata": {},
   "outputs": [],
   "source": [
    "Y = np.copy(normalTexture).astype(\"float32\")\n",
    "Y[:,:,1] = -normalTexture[:,:,2]\n",
    "Y[:,:,2] = normalTexture[:,:,1]\n",
    "imageio.imwrite(\"bowl.exr\", (Y+1)/2.0)"
   ]
  },
  {
   "cell_type": "markdown",
   "id": "3ac2db83",
   "metadata": {},
   "source": [
    "# 11 - Get Water Surface\n",
    "\n",
    "place the IR Filters\n",
    "\n",
    "place a floating cardboard square on the surface of water"
   ]
  },
  {
   "cell_type": "code",
   "execution_count": null,
   "id": "69025eb9",
   "metadata": {},
   "outputs": [],
   "source": [
    "frames = []\n",
    "position = []\n",
    "\n",
    "camera = cam.Camera(infraredMode=0,infrared = True,rgb = False,depth=True,filtre = False)\n",
    "camera.alignTo(True)\n",
    "camera.setHighAccuracy()\n",
    "camera.setExposureIR(10000)\n",
    "normals = []\n",
    "centers = []\n",
    "for k in range(0,10):\n",
    "    for j in range(0,10):\n",
    "        X = camera.getFramesAligned()\n",
    "    #obviously this 300-500 range is kind of shit and should be automated\n",
    "    ret,thres1 = cv2.threshold(X[0],300,1,cv2.THRESH_BINARY)\n",
    "    ret,thres2 = cv2.threshold(X[0],500,1,cv2.THRESH_BINARY_INV)\n",
    "    #plt.matshow(thres1*thres2*maskIR9)\n",
    "    idx = np.where(thres1*thres2*maskIR9)\n",
    "    surfaceX = []\n",
    "    for l in range(0,len(idx[0])):\n",
    "        point = camera.getWorldPosition(idx[0][l],idx[1][l])\n",
    "        surfaceX.append(point)\n",
    "points = Points(surfaceX)\n",
    "plane = Plane.best_fit(points)   \n",
    "normal = np.mean(normals,axis = 0)\n",
    "center = np.mean(centers,axis = 0)\n",
    "rotWater = rotationMatrix(plane.normal,[0,0,1])\n",
    "rotWaterHeight = plane.point"
   ]
  },
  {
   "cell_type": "markdown",
   "id": "5e321178",
   "metadata": {},
   "source": [
    "# 11a - Write Down Water Surface properties "
   ]
  },
  {
   "cell_type": "code",
   "execution_count": null,
   "id": "4a4566cc",
   "metadata": {},
   "outputs": [],
   "source": [
    "print(plane)"
   ]
  }
 ],
 "metadata": {
  "kernelspec": {
   "display_name": "Python 3 (ipykernel)",
   "language": "python",
   "name": "python3"
  },
  "language_info": {
   "codemirror_mode": {
    "name": "ipython",
    "version": 3
   },
   "file_extension": ".py",
   "mimetype": "text/x-python",
   "name": "python",
   "nbconvert_exporter": "python",
   "pygments_lexer": "ipython3",
   "version": "3.9.12"
  }
 },
 "nbformat": 4,
 "nbformat_minor": 5
}
